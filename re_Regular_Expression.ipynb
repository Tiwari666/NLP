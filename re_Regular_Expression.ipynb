{
  "nbformat": 4,
  "nbformat_minor": 0,
  "metadata": {
    "colab": {
      "provenance": [],
      "authorship_tag": "ABX9TyMM1a6PHWUWzw5ej3jFfKwQ",
      "include_colab_link": true
    },
    "kernelspec": {
      "name": "python3",
      "display_name": "Python 3"
    },
    "language_info": {
      "name": "python"
    }
  },
  "cells": [
    {
      "cell_type": "markdown",
      "metadata": {
        "id": "view-in-github",
        "colab_type": "text"
      },
      "source": [
        "<a href=\"https://colab.research.google.com/github/Tiwari666/NLP/blob/main/re_Regular_Expression.ipynb\" target=\"_parent\"><img src=\"https://colab.research.google.com/assets/colab-badge.svg\" alt=\"Open In Colab\"/></a>"
      ]
    },
    {
      "cell_type": "markdown",
      "source": [
        "#Regular expressions or RegEx\n",
        "Regular expression is defined as a sequence of characters that are mainly used to find or replace patterns present in the text. In simple words, we can say that a regular expression is a set of characters or a pattern that is used to find substrings in a given string.\n",
        "\n",
        "A regular expression (RE) is a language for specifying text search strings. It helps us to match or extract other strings or sets of strings, with the help of a specialized syntax present in a pattern.\n",
        "\n",
        "For Example, extracting all hashtags from a tweet, getting email iD or phone numbers, etc from large unstructured text content."
      ],
      "metadata": {
        "id": "KIuwzh-wxXMA"
      }
    },
    {
      "cell_type": "markdown",
      "source": [
        "#How can Regular Expressions be used in NLP?\n",
        "In NLP, we can use Regular expressions at many places such as,\n",
        "\n",
        "1. To Validate data fields.\n",
        "\n",
        "For Example,  dates, email address, URLs, abbreviations, etc.\n",
        "\n",
        "2. To Filter a particular text from the whole corpus.\n",
        "\n",
        "For Example, spam, disallowed websites, etc.\n",
        "\n",
        "3. To Identify particular strings in a text.\n",
        "\n",
        "For Example, token boundaries\n",
        "\n",
        "4. To convert the output of one processing component into the format required for a second component."
      ],
      "metadata": {
        "id": "odUQnEcgyCN-"
      }
    },
    {
      "cell_type": "markdown",
      "source": [
        "#To Validate data fields."
      ],
      "metadata": {
        "id": "8vjAjmOx53az"
      }
    },
    {
      "cell_type": "markdown",
      "source": [
        "#1. use of Regular Expression (re) : To Validate data fields."
      ],
      "metadata": {
        "id": "q2omEhgWAuvv"
      }
    },
    {
      "cell_type": "code",
      "source": [
        "import re\n",
        "\n",
        "# Regular expression for date validation (MM/DD/YYYY format)\n",
        "date_regex = r'^(0[1-9]|1[0-2])/(0[1-9]|[12][0-9]|3[01])/(19|20)\\d{2}$'\n",
        "\n",
        "def validate_date(date_str):\n",
        "    # Check if the date string matches the regular expression\n",
        "    if re.match(date_regex, date_str):\n",
        "        return True\n",
        "    else:\n",
        "        return False\n",
        "\n",
        "# Test the function\n",
        "#date = \"12/31/2022\"\n",
        "date = \"12-31-2022\"\n",
        "if validate_date(date):\n",
        "    print(f\"{date} is a valid date.\")\n",
        "else:\n",
        "    print(f\"{date} is not a valid date.\")"
      ],
      "metadata": {
        "colab": {
          "base_uri": "https://localhost:8080/"
        },
        "id": "tvky8CzK4Iri",
        "outputId": "c762b5c9-e83d-4bc1-aa3b-7eb099673799"
      },
      "execution_count": 1,
      "outputs": [
        {
          "output_type": "stream",
          "name": "stdout",
          "text": [
            "12-31-2022 is not a valid date.\n"
          ]
        }
      ]
    },
    {
      "cell_type": "markdown",
      "source": [
        "#2. use of Regular Expression (re) : To Filter a particular text from the whole corpus."
      ],
      "metadata": {
        "id": "OzbHePaD4ku6"
      }
    },
    {
      "cell_type": "code",
      "source": [
        "import nltk\n",
        "nltk.download('punkt')\n",
        "import re\n",
        "\n",
        "# Sample corpus\n",
        "corpus = \"This is an example sentence. Here is another example sentence with a specific word: apple. This is the last sentence.\"\n",
        "\n",
        "# Tokenize the corpus into sentences\n",
        "sentences = nltk.sent_tokenize(corpus)\n",
        "\n",
        "# Define the regular expression pattern to match the desired text (e.g., \"apple\")\n",
        "pattern = r'\\bapple\\b'\n",
        "\n",
        "# Filter out sentences containing the desired text\n",
        "filtered_sentences = [sentence for sentence in sentences if re.search(pattern, sentence)]\n",
        "\n",
        "# Print the filtered sentences\n",
        "for sentence in filtered_sentences:\n",
        "    print(sentence)"
      ],
      "metadata": {
        "colab": {
          "base_uri": "https://localhost:8080/"
        },
        "id": "HWYI8mYT5qy1",
        "outputId": "8c498e4d-3d37-4fd8-cc18-a666863e55d3"
      },
      "execution_count": 2,
      "outputs": [
        {
          "output_type": "stream",
          "name": "stderr",
          "text": [
            "[nltk_data] Downloading package punkt to /root/nltk_data...\n",
            "[nltk_data]   Unzipping tokenizers/punkt.zip.\n"
          ]
        },
        {
          "output_type": "stream",
          "name": "stdout",
          "text": [
            "Here is another example sentence with a specific word: apple.\n"
          ]
        }
      ]
    },
    {
      "cell_type": "markdown",
      "source": [
        "# 3. use of Regular Expression (re) :To Identify particular strings in a text.\n",
        "\n",
        "\\b: Word boundary anchor.\n",
        "\n",
        "[bB]: Match either 'b' or 'B'.\n",
        "\n",
        "\\w+: Match one or more word characters (letters, digits, or underscores).\n",
        "\n",
        "re.findall(pattern, text): Find all non-overlapping matches of the pattern in the text.\n",
        "\n",
        "matches: Store the matched strings."
      ],
      "metadata": {
        "id": "N6WlcfrLA1hW"
      }
    },
    {
      "cell_type": "code",
      "source": [
        "import re\n",
        "\n",
        "# Sample text\n",
        "text = \"The quick brown fox jumps over the lazy dog.\"\n",
        "\n",
        "# Define a regular expression pattern to search for words starting with 'b'\n",
        "pattern = r'\\b[bB]\\w+'\n",
        "\n",
        "# Use re.findall() to find all matches of the pattern in the text\n",
        "matches = re.findall(pattern, text)\n",
        "\n",
        "# Print the matched strings\n",
        "print(matches)"
      ],
      "metadata": {
        "colab": {
          "base_uri": "https://localhost:8080/"
        },
        "id": "uQPZ-otnEJ1K",
        "outputId": "5ed0e347-59f7-458f-dc77-e2dcc2246135"
      },
      "execution_count": 3,
      "outputs": [
        {
          "output_type": "stream",
          "name": "stdout",
          "text": [
            "['brown']\n"
          ]
        }
      ]
    },
    {
      "cell_type": "markdown",
      "source": [
        "#4 ) use of Regular Expression (re) : To convert the output of one processing component into the format required for a second component.\n",
        "\n"
      ],
      "metadata": {
        "id": "hvbC6ch8A871"
      }
    },
    {
      "cell_type": "code",
      "source": [
        "import re\n",
        "\n",
        "# Input date string in the format \"DD-MM-YYYY\"\n",
        "input_date = \"31-01-2024\"\n",
        "\n",
        "# Define a regular expression pattern to match the input date format\n",
        "pattern = r'(\\d{2})-(\\d{2})-(\\d{4})'\n",
        "\n",
        "# Use re.sub() to replace the matched pattern with the desired format\n",
        "output_date = re.sub(pattern, r'\\3/\\2/\\1', input_date)\n",
        "\n",
        "# Print the converted date string\n",
        "print(\"Input date:\", input_date)\n",
        "print(\"Output date:\", output_date)"
      ],
      "metadata": {
        "colab": {
          "base_uri": "https://localhost:8080/"
        },
        "id": "CEdSBXvVFOXT",
        "outputId": "94031793-a687-4d81-8d39-ff8c7a5c3bc6"
      },
      "execution_count": 4,
      "outputs": [
        {
          "output_type": "stream",
          "name": "stdout",
          "text": [
            "Input date: 31-01-2024\n",
            "Output date: 2024/01/31\n"
          ]
        }
      ]
    },
    {
      "cell_type": "markdown",
      "source": [
        "#INTERPRETATION OF ABOVE CODE:\n",
        "\n",
        "import re: Import the re module, which provides support for working with regular expressions.\n",
        "\n",
        "input_date: The input date string in the format \"DD-MM-YYYY\".\n",
        "\n",
        "pattern: The regular expression pattern r'(\\d{2})-(\\d{2})-(\\d{4})':\n",
        "(\\d{2}): Match and capture two digits (day).\n",
        "\n",
        "-: Match the hyphen separator.\n",
        "\n",
        "(\\d{2}): Match and capture two digits (month).\n",
        "\n",
        "-: Match the hyphen separator.\n",
        "\n",
        "(\\d{4}): Match and capture four digits (year).\n",
        "\n",
        "re.sub(pattern, r'\\3/\\2/\\1', input_date): Use re.sub() to substitute the matched pattern with the desired format \"YYYY/MM/DD\". \\1, \\2, and \\3 refer to the captured groups in the pattern representing day, month, and year respectively. Replace the matched pattern with the text captured by the third capture group (\\3), followed by a \"/\", then the text captured by the second capture group (\\2), another \"/\", and finally the text captured by the first capture group (\\1).\n",
        "\n",
        "output_date: Store the converted date string.\n",
        "\n",
        "print(\"Input date:\", input_date): Print the original input date string.\n",
        "\n",
        "print(\"Output date:\", output_date): Print the converted date string.\n",
        "\n",
        "This example demonstrates how to use regular expressions to convert the output of one processing component (date in \"DD-MM-YYYY\" format) into the format required for a second component (\"YYYY/MM/DD\")."
      ],
      "metadata": {
        "id": "zKQ5HK8jFYTr"
      }
    },
    {
      "cell_type": "markdown",
      "source": [
        "# What does this mean : pattern = r'\\bapple\\b'?\n",
        "\n",
        "r: This is a prefix indicating that the following string is a raw string literal. Raw string literals treat backslashes (\\) as literal characters, which is useful when working with regular expressions, as backslashes are often used as escape characters.\n",
        "\n",
        "'\\b': This is a word boundary anchor in regular expressions. It matches the position between a word character (like a letter or a number) and a non-word character (like a space or punctuation). \\b asserts that the position is at the beginning or end of a word.\n",
        "\n",
        "apple: This is the word we are searching for in the text.\n",
        "\n",
        "'\\b': Another word boundary anchor, similar to the first one. It asserts that the position is at the beginning or end of a word.\n",
        "\n",
        "Putting it all together, r'\\bapple\\b' is a regular expression pattern that matches the word \"apple\" as a standalone word (i.e., not part of a longer word) in a text. The word boundaries (\\b) ensure that \"apple\" is matched only when it appears as a whole word and not as part of another word."
      ],
      "metadata": {
        "id": "huzBEtXU5_IJ"
      }
    },
    {
      "cell_type": "markdown",
      "source": [
        "#LITERALS:\n",
        "In Python, a literal is a notation representing a fixed value in source code. Literals are used to express data directly and explicitly within the code. They are used to initialize variables or provide values for expressions without any computation or transformation. Literals can be of various types, including numeric, string, boolean, sequence, and special literals.\n",
        "\n",
        "Here's a breakdown of literals in Python:\n",
        "\n",
        "#Numeric Literals:\n",
        "\n",
        "Integers: Whole numbers without a fractional part, e.g., 42, -10.\n",
        "\n",
        "Floating-point numbers: Numbers with a fractional part or in exponential notation, e.g., 3.14, -0.01, 2.5e2.\n",
        "\n",
        "Complex numbers: Numbers with a real and imaginary part, represented as real + imaginary*j, e.g., 2 + 3j, -1 - 2j.\n",
        "\n",
        "String Literals:\n",
        "\n",
        "#Single-line strings:\n",
        "\n",
        "Enclosed in either single (') or double (\") quotes, e.g., 'hello', \"world\".\n",
        "\n",
        "Multi-line strings: Enclosed in triple quotes (''' or \"\"\") to span multiple\n",
        "lines, e.g., '''multi-line\\nstring'''.\n",
        "\n",
        "#Boolean Literals:\n",
        "\n",
        "True and False: Representing boolean values.\n",
        "\n",
        "#None Literal:\n",
        "\n",
        "None: Represents the absence of a value or a null value.\n",
        "\n",
        "#Sequence Literals:\n",
        "\n",
        "Lists: Ordered collections of items enclosed in square brackets ([]), e.g., [1, 2, 3].\n",
        "\n",
        "Tuples: Ordered collections of items enclosed in parentheses (()), e.g., (1, 2, 3).\n",
        "\n",
        "Sets: Unordered collections of unique items enclosed in curly braces ({}), e.g., {1, 2, 3}.\n",
        "\n",
        "Dictionaries: Unordered collections of key-value pairs enclosed in curly braces ({}), where each key is associated with a value, e.g., {'a': 1, 'b': 2}.\n",
        "Special Literals:\n",
        "\n",
        "Ellipsis (...): Represents an indeterminate value or a placeholder, e.g., ....\n",
        "\n",
        "Literals are fundamental building blocks in Python programming, used to represent constant values directly within the code."
      ],
      "metadata": {
        "id": "kINrkpa67IhH"
      }
    },
    {
      "cell_type": "code",
      "source": [],
      "metadata": {
        "id": "eORrh2Yt8HPB"
      },
      "execution_count": null,
      "outputs": []
    }
  ]
}